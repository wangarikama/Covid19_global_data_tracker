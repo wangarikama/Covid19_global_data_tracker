{
 "cells": [
  {
   "cell_type": "markdown",
   "id": "1fad6022",
   "metadata": {},
   "source": [
    "# COVID-19 Global Data Tracker\n",
    "This notebook analyzes COVID-19 trends in selected countries using data from Our World in Data.  \n",
    "It covers data loading, cleaning, exploration, visualization, and insights.\n"
   ]
  },
  {
   "cell_type": "markdown",
   "id": "c18de43d",
   "metadata": {},
   "source": [
    "# load the dataset and explore its structure \n",
    "We load the data, check columns, preview rows and identify missing values "
   ]
  },
  {
   "cell_type": "code",
   "execution_count": null,
   "id": "d6e127e2",
   "metadata": {},
   "outputs": [],
   "source": [
    "import pandas as pd\n",
    "import matplotlib.pyplot as plt\n",
    "import seaborn as sns\n",
    "\n",
    "# Load the dataset (make sure the CSV is in your folder)\n",
    "df = pd.read_csv(\"owid-covid-data.csv\")\n",
    "\n",
    "# Preview columns and first few rows\n",
    "print(df.columns)\n",
    "print(df.head())\n",
    "\n",
    "# Check for missing values\n",
    "print(df.isnull().sum())\n"
   ]
  },
  {
   "cell_type": "markdown",
   "id": "f148d777",
   "metadata": {},
   "source": [
    "# Data Cleaning\n",
    "\n",
    "Filter the dataset to focus on selected countries, convert date column to datetime, and drop rows missing key values.\n"
   ]
  },
  {
   "cell_type": "code",
   "execution_count": null,
   "id": "869cafdf",
   "metadata": {},
   "outputs": [],
   "source": [
    "# filter countries of interest\n",
    "countries = [\"Kenya\", \"USA\", \"India\"]\n",
    "df_filtered = df[df['location'].isin(countries)] \n",
    "\n",
    "# Drop rows with missing date or critical values\n",
    "critical_columns = ['date', 'total_cases', 'total_deaths', 'total_vaccinations', 'population']\n",
    "df = df.dropna(subset=critical_columns)\n",
    "\n",
    "# Ensure date is in datetime format\n",
    "df['date'] = pd.to_datetime(df['date'])\n",
    "\n",
    "# Reset index after cleaning\n",
    "df = df.reset_index(drop=True)\n",
    "\n",
    "#Convert date column to datetime\n",
    "df['date'] = pd.to_datetime(df['date'])\n",
    "#Handle missing numeric values with fillna() or interpolate().\n",
    "df = df.ffill()\n",
    "df = df.bfill()"
   ]
  },
  {
   "cell_type": "markdown",
   "id": "ad72a4d5",
   "metadata": {},
   "source": [
    "# Exploratory Data Analysis (EDA)\n",
    "Plot total cases over time for selected countries,total deaths over time,Compare daily new cases between countries.Calculate the death rate"
   ]
  },
  {
   "cell_type": "code",
   "execution_count": null,
   "id": "89c6c27d",
   "metadata": {},
   "outputs": [],
   "source": [
    "#Line charts (cases & deaths over time)\n",
    "#Plot total cases over time for all countries \n",
    "plt.figure(figsize=(12, 6))\n",
    "sns.lineplot(data=df[df['location'].isin(['United States', 'India', 'Brazil'])], x='date', y='total_cases', hue='location')\n",
    "plt.title('Total COVID-19 Cases Over Time')\n",
    "plt.xlabel('Date')\n",
    "plt.ylabel('Total Cases')\n",
    "plt.xticks(rotation=45)\n",
    "plt.legend(title='Country')\n",
    "plt.show()\n",
    "#Bar charts (top countries by total cases).\n",
    "plt.figure(figsize=(12, 6))\n",
    "top_countries = df[df['date'] == df['date'].max()].nlargest(10, 'total_cases')\n",
    "sns.barplot(data=top_countries, x='total_cases', y='location')\n",
    "plt.title('Top 10 Countries by Total COVID-19 Cases')\n",
    "plt.xlabel('Total Cases')\n",
    "plt.ylabel('Country')\n",
    "plt.show()\n",
    "\n",
    "#Plot total deaths over time.\n",
    "plt.figure(figsize=(12, 6))\n",
    "sns.lineplot(data=df[df['location'].isin(['United States', 'India', 'Brazil'])], x='date', y='total_deaths', hue='location')\n",
    "plt.title('Total COVID-19 Deaths Over Time')\n",
    "plt.xlabel('Date')\n",
    "plt.ylabel('Total Deaths')\n",
    "plt.xticks(rotation=45)\n",
    "plt.legend(title='Country')\n",
    "plt.show()\n",
    "\n",
    "\n",
    "#Compare daily new cases between countries.\n",
    "df['new_cases'] = df['total_cases'].diff()\n",
    "plt.figure(figsize=(12, 6))\n",
    "sns.lineplot(data=df, x='date', y='new_cases', hue='location')\n",
    "plt.title('Daily New COVID-19 Cases')\n",
    "plt.xlabel('Date')\n",
    "plt.ylabel('New Cases')\n",
    "plt.xticks(rotation=45)\n",
    "plt.legend(title='Country')\n",
    "plt.show()\n",
    "\n",
    "#Calculate the death rate\n",
    "df['death_rate'] = df['total_deaths'] / df['total_cases'] * 100\n",
    "plt.figure(figsize=(12, 6))\n",
    "sns.lineplot(data=df, x='date', y='death_rate', hue='location')\n",
    "plt.title('COVID-19 Death Rate Over Time')\n",
    "plt.xlabel('Date')\n",
    "plt.ylabel('Death Rate (%)')\n",
    "plt.xticks(rotation=45)\n",
    "plt.legend(title='Country')\n",
    "plt.show()\n",
    "\n"
   ]
  },
  {
   "cell_type": "markdown",
   "id": "13a3f9b3",
   "metadata": {},
   "source": [
    " # Visualizing Vaccination Progress\n",
    "\n",
    "Plot cumulative vaccinations over time for the selected countries."
   ]
  },
  {
   "cell_type": "code",
   "execution_count": null,
   "id": "85c280ef",
   "metadata": {},
   "outputs": [],
   "source": [
    "#Plot cumulative vaccinations over time for selected countries.\n",
    "plt.figure(figsize=(12, 6))\n",
    "sns.lineplot(data=df[df['location'].isin(['United States', 'India', 'Brazil'])], x='date', y='total_vaccinations', hue='location')\n",
    "plt.title('Total COVID-19 Vaccinations Over Time')\n",
    "plt.xlabel('Date')\n",
    "plt.ylabel('Total Vaccinations')\n",
    "plt.xticks(rotation=45)\n",
    "plt.legend(title='Country')\n",
    "plt.show()\n",
    "\n",
    "#Compare % vaccinated population.\n",
    "df['vaccination_rate'] = df['total_vaccinations'] / df['population'] * 100\n",
    "plt.figure(figsize=(12, 6))\n",
    "sns.lineplot(data=df, x='date', y='vaccination_rate', hue='location')\n",
    "plt.title('COVID-19 Vaccination Rate Over Time')\n",
    "plt.xlabel('Date')\n",
    "plt.ylabel('Vaccination Rate (%)')\n",
    "plt.xticks(rotation=45)\n",
    "plt.legend(title='Country')\n",
    "plt.show()\n",
    "# Pie charts for vaccinated vs. unvaccinated.\n",
    "plt.figure(figsize=(12, 6))\n",
    "vaccination_counts = df[df['date'] == df['date'].max()].groupby('location')['vaccination_rate'].max()\n",
    "plt.pie(vaccination_counts, labels=vaccination_counts.index, autopct='%1.1f%%')\n",
    "plt.title('COVID-19 Vaccination Rate by Country')\n",
    "plt.show()"
   ]
  },
  {
   "cell_type": "markdown",
   "id": "0578d19b",
   "metadata": {},
   "source": [
    "#  Build a Choropleth Map\n",
    "Prepare a dataframe with iso_code, total_cases for the latest date. Plot a choropleth showing case density or vaccination rates.\n"
   ]
  },
  {
   "cell_type": "code",
   "execution_count": null,
   "id": "d27adcb3",
   "metadata": {},
   "outputs": [],
   "source": [
    "# Build a Choropleth Map\n",
    "import plotly.express as px\n",
    "\n",
    "latest_data = df[df['date'] == df['date'].max()]\n",
    "fig = px.choropleth(latest_data,\n",
    "                    locations=\"iso_code\",\n",
    "                    color=\"total_cases\",\n",
    "                    hover_name=\"location\",\n",
    "                    color_continuous_scale=px.colors.sequential.Plasma)\n",
    "\n",
    "fig.update_layout(title=\"COVID-19 Total Cases by Country\",\n",
    "                  geo=dict(showcoastlines=True, coastlinecolor=\"Black\"))\n",
    "\n",
    "fig.write_html(\"covid_map.html\")\n",
    "print(\"Map saved. Open covid_map.html in your browser.\")\n"
   ]
  },
  {
   "cell_type": "markdown",
   "id": "9aa88401",
   "metadata": {},
   "source": [
    "# Insights & Reporting\n",
    "Summarize findings.Write 3-5 key insights from the data,Highlight anomalies or interesting patterns."
   ]
  },
  {
   "cell_type": "code",
   "execution_count": null,
   "id": "d37976e9",
   "metadata": {},
   "outputs": [],
   "source": [
    "# Insights & Reporting\n",
    "insights = []\n",
    "\n",
    "for country in countries:\n",
    "    country_data = df_filtered[df_filtered['location'] == country].sort_values('date')\n",
    "    if country_data.empty:\n",
    "        insights.append(f\"{country}: No data available\")\n",
    "        continue\n",
    "    \n",
    "    latest = country_data.iloc[-1]\n",
    "    death_rate = latest['death_rate'] if 'death_rate' in latest else latest['total_deaths'] / latest['total_cases']\n",
    "    \n",
    "    insights.append({\n",
    "        \"country\": country,\n",
    "        \"total_cases\": int(latest['total_cases']),\n",
    "        \"total_deaths\": int(latest['total_deaths']),\n",
    "        \"death_rate\": death_rate\n",
    "    })\n",
    "\n",
    "# Print details per country\n",
    "print(\"Latest Data Per Country:\")\n",
    "for item in insights:\n",
    "    if isinstance(item, str):\n",
    "        print(item)\n",
    "    else:\n",
    "        print(f\"{item['country']} - Total Cases: {item['total_cases']}, \"\n",
    "              f\"Total Deaths: {item['total_deaths']}, \"\n",
    "              f\"Death Rate: {item['death_rate']:.2%}\")\n",
    "\n",
    "# Summarize 3–5 key insights\n",
    "print(\"\\nKey Insights:\")\n",
    "if insights:\n",
    "    # Example insights based on collected data\n",
    "    max_cases = max((i for i in insights if isinstance(i, dict)), key=lambda x: x['total_cases'])\n",
    "    max_deaths = max((i for i in insights if isinstance(i, dict)), key=lambda x: x['total_deaths'])\n",
    "    highest_death_rate = max((i for i in insights if isinstance(i, dict)), key=lambda x: x['death_rate'])\n",
    "    \n",
    "    print(f\"- {max_cases['country']} has the highest total cases: {max_cases['total_cases']:,}\")\n",
    "    print(f\"- {max_deaths['country']} has the highest total deaths: {max_deaths['total_deaths']:,}\")\n",
    "    print(f\"- {highest_death_rate['country']} has the highest death rate: {highest_death_rate['death_rate']:.2%}\")\n",
    "    \n",
    "    # Detect anomalies: countries with death rate > 5%\n",
    "    high_death_rate_countries = [i['country'] for i in insights if isinstance(i, dict) and i['death_rate'] > 0.05]\n",
    "    if high_death_rate_countries:\n",
    "        print(f\"- High death rates (>5%) found in: {', '.join(high_death_rate_countries)}\")\n",
    "    \n",
    "    # Low case countries\n",
    "    low_case_countries = [i['country'] for i in insights if isinstance(i, dict) and i['total_cases'] < 1000]\n",
    "    if low_case_countries:\n",
    "        print(f\"- Countries with fewer than 1,000 cases: {', '.join(low_case_countries)}\")\n"
   ]
  },
  {
   "cell_type": "markdown",
   "id": "6e465511",
   "metadata": {},
   "source": [
    "# Allow user input "
   ]
  },
  {
   "cell_type": "code",
   "execution_count": null,
   "id": "d09d1292",
   "metadata": {},
   "outputs": [],
   "source": [
    "#Allow user input(choose country & date range)\n",
    "selected_country = input(\"Enter the country you want to analyze: \")\n",
    "start_date = input(\"Enter the start date (YYYY-MM-DD): \")\n",
    "end_date = input(\"Enter the end date (YYYY-MM-DD): \")\n"
   ]
  }
 ],
 "metadata": {
  "kernelspec": {
   "display_name": "Python 3",
   "language": "python",
   "name": "python3"
  },
  "language_info": {
   "codemirror_mode": {
    "name": "ipython",
    "version": 3
   },
   "file_extension": ".py",
   "mimetype": "text/x-python",
   "name": "python",
   "nbconvert_exporter": "python",
   "pygments_lexer": "ipython3",
   "version": "3.13.5"
  }
 },
 "nbformat": 4,
 "nbformat_minor": 5
}
